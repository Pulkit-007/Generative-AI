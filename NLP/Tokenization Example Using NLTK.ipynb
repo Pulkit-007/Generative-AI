{
 "cells": [
  {
   "cell_type": "code",
   "execution_count": 1,
   "id": "08697375-e9d2-4155-a328-b4469ae3afd9",
   "metadata": {},
   "outputs": [
    {
     "name": "stdout",
     "output_type": "stream",
     "text": [
      "Requirement already satisfied: nltk in /Applications/anaconda3/lib/python3.12/site-packages (3.9.1)\n",
      "Requirement already satisfied: click in /Applications/anaconda3/lib/python3.12/site-packages (from nltk) (8.1.7)\n",
      "Requirement already satisfied: joblib in /Applications/anaconda3/lib/python3.12/site-packages (from nltk) (1.4.2)\n",
      "Requirement already satisfied: regex>=2021.8.3 in /Applications/anaconda3/lib/python3.12/site-packages (from nltk) (2024.9.11)\n",
      "Requirement already satisfied: tqdm in /Applications/anaconda3/lib/python3.12/site-packages (from nltk) (4.66.5)\n"
     ]
    }
   ],
   "source": [
    "!pip install nltk"
   ]
  },
  {
   "cell_type": "code",
   "execution_count": 27,
   "id": "567f3d3d-3794-4fe1-b354-099a409f0400",
   "metadata": {},
   "outputs": [],
   "source": [
    "import nltk"
   ]
  },
  {
   "cell_type": "code",
   "execution_count": 37,
   "id": "3ce4e000-50c8-4304-8a7e-b63a3ad91c74",
   "metadata": {},
   "outputs": [],
   "source": [
    "corpus=\"\"\"Hello, welcome to the world's of NLP.\n",
    "Please do watch the entire course NLP tutorials! to become an expert in NLP...\n",
    "\"\"\""
   ]
  },
  {
   "cell_type": "code",
   "execution_count": 39,
   "id": "b0608ede-4164-47af-a18e-f70d36a176ae",
   "metadata": {},
   "outputs": [
    {
     "data": {
      "text/plain": [
       "\"Hello, welcome to the world's of NLP.\\nPlease do watch the entire course NLP tutorials! to become an expert in NLP...\\n\""
      ]
     },
     "execution_count": 39,
     "metadata": {},
     "output_type": "execute_result"
    }
   ],
   "source": [
    "corpus"
   ]
  },
  {
   "cell_type": "code",
   "execution_count": 41,
   "id": "5ab15238-2f2c-4fc6-a7d3-893003c29ed1",
   "metadata": {},
   "outputs": [
    {
     "name": "stdout",
     "output_type": "stream",
     "text": [
      "Hello, welcome to the world's of NLP.\n",
      "Please do watch the entire course NLP tutorials! to become an expert in NLP...\n",
      "\n"
     ]
    }
   ],
   "source": [
    "print(corpus)"
   ]
  },
  {
   "cell_type": "code",
   "execution_count": 43,
   "id": "1e03569f-760e-4530-a5a2-ff8d8fb34439",
   "metadata": {},
   "outputs": [],
   "source": [
    "## Tokenization\n",
    "## Paragraphs ----> sentences"
   ]
  },
  {
   "cell_type": "code",
   "execution_count": 45,
   "id": "9f05a581-f481-4009-a321-5a382f49828d",
   "metadata": {},
   "outputs": [],
   "source": [
    "from nltk.tokenize import sent_tokenize"
   ]
  },
  {
   "cell_type": "code",
   "execution_count": 29,
   "id": "9fd2eaba-bb39-48d0-871d-07d8145cb1e2",
   "metadata": {},
   "outputs": [
    {
     "name": "stderr",
     "output_type": "stream",
     "text": [
      "[nltk_data] Downloading package punkt to\n",
      "[nltk_data]     /Users/pulkitsharma15/nltk_data...\n",
      "[nltk_data]   Unzipping tokenizers/punkt.zip.\n"
     ]
    },
    {
     "data": {
      "text/plain": [
       "True"
      ]
     },
     "execution_count": 29,
     "metadata": {},
     "output_type": "execute_result"
    }
   ],
   "source": [
    "nltk.download('punkt')"
   ]
  },
  {
   "cell_type": "code",
   "execution_count": 47,
   "id": "f21c5472-3413-4ff0-bdc1-def298715fee",
   "metadata": {},
   "outputs": [
    {
     "data": {
      "text/plain": [
       "[\"Hello, welcome to the world's of NLP.\",\n",
       " 'Please do watch the entire course NLP tutorials!',\n",
       " 'to become an expert in NLP...']"
      ]
     },
     "execution_count": 47,
     "metadata": {},
     "output_type": "execute_result"
    }
   ],
   "source": [
    "sent_tokenize(corpus)"
   ]
  },
  {
   "cell_type": "code",
   "execution_count": 49,
   "id": "4cebf5da-a06e-4b5d-bbc9-75fb44193aa4",
   "metadata": {},
   "outputs": [],
   "source": [
    "documents=sent_tokenize(corpus)"
   ]
  },
  {
   "cell_type": "code",
   "execution_count": 51,
   "id": "053cc488-bc6a-4c34-b24e-1679b28f869a",
   "metadata": {},
   "outputs": [
    {
     "data": {
      "text/plain": [
       "[\"Hello, welcome to the world's of NLP.\",\n",
       " 'Please do watch the entire course NLP tutorials!',\n",
       " 'to become an expert in NLP...']"
      ]
     },
     "execution_count": 51,
     "metadata": {},
     "output_type": "execute_result"
    }
   ],
   "source": [
    "documents"
   ]
  },
  {
   "cell_type": "code",
   "execution_count": 53,
   "id": "b7c891fa-b26b-4bb2-926e-d3dbbafe094a",
   "metadata": {},
   "outputs": [
    {
     "data": {
      "text/plain": [
       "list"
      ]
     },
     "execution_count": 53,
     "metadata": {},
     "output_type": "execute_result"
    }
   ],
   "source": [
    "type(documents)"
   ]
  },
  {
   "cell_type": "code",
   "execution_count": 55,
   "id": "fb9d0faf-9c6f-4acd-b4bf-4ee087825ac4",
   "metadata": {},
   "outputs": [
    {
     "name": "stdout",
     "output_type": "stream",
     "text": [
      "Hello, welcome to the world's of NLP.\n",
      "Please do watch the entire course NLP tutorials!\n",
      "to become an expert in NLP...\n"
     ]
    }
   ],
   "source": [
    "for sentence in documents:\n",
    "    print(sentence)"
   ]
  },
  {
   "cell_type": "code",
   "execution_count": 57,
   "id": "152520a7-1c9d-42ef-af11-4e5cdec37475",
   "metadata": {},
   "outputs": [],
   "source": [
    "## Tokenization \n",
    "## paragraphs--> words\n",
    "## sentences---> words\n",
    "from nltk.tokenize import word_tokenize"
   ]
  },
  {
   "cell_type": "code",
   "execution_count": 59,
   "id": "5a444412-9c44-4594-8b4f-864b62292bc7",
   "metadata": {},
   "outputs": [
    {
     "data": {
      "text/plain": [
       "['Hello',\n",
       " ',',\n",
       " 'welcome',\n",
       " 'to',\n",
       " 'the',\n",
       " 'world',\n",
       " \"'s\",\n",
       " 'of',\n",
       " 'NLP',\n",
       " '.',\n",
       " 'Please',\n",
       " 'do',\n",
       " 'watch',\n",
       " 'the',\n",
       " 'entire',\n",
       " 'course',\n",
       " 'NLP',\n",
       " 'tutorials',\n",
       " '!',\n",
       " 'to',\n",
       " 'become',\n",
       " 'an',\n",
       " 'expert',\n",
       " 'in',\n",
       " 'NLP',\n",
       " '...']"
      ]
     },
     "execution_count": 59,
     "metadata": {},
     "output_type": "execute_result"
    }
   ],
   "source": [
    "word_tokenize(corpus)"
   ]
  },
  {
   "cell_type": "code",
   "execution_count": 61,
   "id": "5b6825fe-2ad7-4d7b-8d06-1cf269e3e4d9",
   "metadata": {},
   "outputs": [
    {
     "name": "stdout",
     "output_type": "stream",
     "text": [
      "['Hello', ',', 'welcome', 'to', 'the', 'world', \"'s\", 'of', 'NLP', '.']\n",
      "['Please', 'do', 'watch', 'the', 'entire', 'course', 'NLP', 'tutorials', '!']\n",
      "['to', 'become', 'an', 'expert', 'in', 'NLP', '...']\n"
     ]
    }
   ],
   "source": [
    "for sentence in documents:\n",
    "    print(word_tokenize(sentence))"
   ]
  },
  {
   "cell_type": "code",
   "execution_count": 63,
   "id": "25c8c35f-289c-4d08-82e6-d4ade24a8d7c",
   "metadata": {},
   "outputs": [],
   "source": [
    "## one more library we are gonna talk about \n",
    "from nltk.tokenize import wordpunct_tokenize ##----> making sure punctuation also get treated as a separate word"
   ]
  },
  {
   "cell_type": "code",
   "execution_count": 65,
   "id": "f669e96a-3b18-4797-b26d-0d6843c848a4",
   "metadata": {},
   "outputs": [
    {
     "data": {
      "text/plain": [
       "['Hello',\n",
       " ',',\n",
       " 'welcome',\n",
       " 'to',\n",
       " 'the',\n",
       " 'world',\n",
       " \"'\",\n",
       " 's',\n",
       " 'of',\n",
       " 'NLP',\n",
       " '.',\n",
       " 'Please',\n",
       " 'do',\n",
       " 'watch',\n",
       " 'the',\n",
       " 'entire',\n",
       " 'course',\n",
       " 'NLP',\n",
       " 'tutorials',\n",
       " '!',\n",
       " 'to',\n",
       " 'become',\n",
       " 'an',\n",
       " 'expert',\n",
       " 'in',\n",
       " 'NLP',\n",
       " '...']"
      ]
     },
     "execution_count": 65,
     "metadata": {},
     "output_type": "execute_result"
    }
   ],
   "source": [
    "wordpunct_tokenize(corpus) ## one difference is that here apostrophe also got splitted before it was not getting splitted it was a single word ('s )"
   ]
  },
  {
   "cell_type": "code",
   "execution_count": 67,
   "id": "8081b166-40fc-43d6-a8ca-7e596a0d9861",
   "metadata": {},
   "outputs": [],
   "source": [
    "from nltk.tokenize import TreebankWordTokenizer"
   ]
  },
  {
   "cell_type": "code",
   "execution_count": 69,
   "id": "364559ef-2c27-45fb-b6d9-aec9114df171",
   "metadata": {},
   "outputs": [],
   "source": [
    "tokenizer=TreebankWordTokenizer()"
   ]
  },
  {
   "cell_type": "code",
   "execution_count": 73,
   "id": "61fef980-38c3-40fb-ace4-00a275f89eed",
   "metadata": {},
   "outputs": [
    {
     "data": {
      "text/plain": [
       "['Hello',\n",
       " ',',\n",
       " 'welcome',\n",
       " 'to',\n",
       " 'the',\n",
       " 'world',\n",
       " \"'s\",\n",
       " 'of',\n",
       " 'NLP.',\n",
       " 'Please',\n",
       " 'do',\n",
       " 'watch',\n",
       " 'the',\n",
       " 'entire',\n",
       " 'course',\n",
       " 'NLP',\n",
       " 'tutorials',\n",
       " '!',\n",
       " 'to',\n",
       " 'become',\n",
       " 'an',\n",
       " 'expert',\n",
       " 'in',\n",
       " 'NLP',\n",
       " '...']"
      ]
     },
     "execution_count": 73,
     "metadata": {},
     "output_type": "execute_result"
    }
   ],
   "source": [
    "tokenizer.tokenize(corpus)  ## difference is here full stop will not be treated as a separate word.. for the last sentence it will be considering full stop as a separate word."
   ]
  },
  {
   "cell_type": "code",
   "execution_count": null,
   "id": "616675e4-34c2-46a9-96dd-f6fe7e259a4f",
   "metadata": {},
   "outputs": [],
   "source": []
  },
  {
   "cell_type": "code",
   "execution_count": null,
   "id": "b02f6b45-180c-47b9-abbb-c9fbb7cdf076",
   "metadata": {},
   "outputs": [],
   "source": []
  }
 ],
 "metadata": {
  "kernelspec": {
   "display_name": "Python 3 (ipykernel)",
   "language": "python",
   "name": "python3"
  },
  "language_info": {
   "codemirror_mode": {
    "name": "ipython",
    "version": 3
   },
   "file_extension": ".py",
   "mimetype": "text/x-python",
   "name": "python",
   "nbconvert_exporter": "python",
   "pygments_lexer": "ipython3",
   "version": "3.12.4"
  }
 },
 "nbformat": 4,
 "nbformat_minor": 5
}
